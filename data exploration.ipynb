{
 "cells": [
  {
   "cell_type": "markdown",
   "metadata": {},
   "source": [
    "## Data Exploration"
   ]
  },
  {
   "cell_type": "code",
   "execution_count": 1,
   "metadata": {},
   "outputs": [],
   "source": [
    "import pandas as pd\n",
    "import matplotlib.pyplot as plt"
   ]
  },
  {
   "cell_type": "markdown",
   "metadata": {},
   "source": [
    "### load data"
   ]
  },
  {
   "cell_type": "code",
   "execution_count": 6,
   "metadata": {},
   "outputs": [
    {
     "name": "stdout",
     "output_type": "stream",
     "text": [
      "<class 'pandas.core.frame.DataFrame'>\n",
      "RangeIndex: 2933 entries, 0 to 2932\n",
      "Data columns (total 31 columns):\n",
      " #   Column                                        Non-Null Count  Dtype  \n",
      "---  ------                                        --------------  -----  \n",
      " 0   Protocol Number                               2933 non-null   object \n",
      " 1   IQVIA Project Code                            2933 non-null   object \n",
      " 2   Study Name                                    2933 non-null   object \n",
      " 3   MDM Standard Protocol Number                  2933 non-null   object \n",
      " 4   Discrepancy ID                                2933 non-null   int64  \n",
      " 5   Discrepancy Type                              2933 non-null   object \n",
      " 6   Source Type                                   0 non-null      float64\n",
      " 7   Issue Category                                2933 non-null   object \n",
      " 8   Check ID                                      2933 non-null   object \n",
      " 9   Issue/Discrepancy Status                      2933 non-null   object \n",
      " 10  Data Reviewer Name                            2933 non-null   object \n",
      " 11  Date Time Assigned                            2933 non-null   object \n",
      " 12  Date Last Updated                             2933 non-null   object \n",
      " 13  Site ID                                       2933 non-null   object \n",
      " 14  Subject ID                                    2933 non-null   object \n",
      " 15  Visit ID                                      2933 non-null   object \n",
      " 16  Form ID                                       2933 non-null   object \n",
      " 17  Discrepancy/Issue Message                     2933 non-null   object \n",
      " 18  Assigned To                                   2933 non-null   object \n",
      " 19  Action                                        2933 non-null   object \n",
      " 20  Actioned By                                   496 non-null    object \n",
      " 21  Internal Chat                                 560 non-null    object \n",
      " 22  External Chat                                 69 non-null     object \n",
      " 23  Resolution Owner Group                        61 non-null     object \n",
      " 24  Resolution Owner Group Role                   0 non-null      float64\n",
      " 25  Resolution Owner Group – Representative Name  0 non-null      float64\n",
      " 26  Message to Resolution Owner Group             61 non-null     object \n",
      " 27  DHE Category                                  0 non-null      float64\n",
      " 28  Description of DHE                            0 non-null      float64\n",
      " 29  AGEING                                        2933 non-null   object \n",
      " 30  UniqueConcatenate(roleNameForUser) for        0 non-null      float64\n",
      "dtypes: float64(6), int64(1), object(24)\n",
      "memory usage: 710.5+ KB\n"
     ]
    }
   ],
   "source": [
    "# load the dataset\n",
    "df = pd.read_csv('C:/Users/q1063033/OneDrive - IQVIA/02_Innovation/Use Cases/Issue Management/input data/Issue Navigator - example.txt.csv')\n",
    "df.info()"
   ]
  },
  {
   "cell_type": "markdown",
   "metadata": {},
   "source": [
    "### select columns of interest"
   ]
  },
  {
   "cell_type": "code",
   "execution_count": 8,
   "metadata": {},
   "outputs": [
    {
     "name": "stdout",
     "output_type": "stream",
     "text": [
      "<class 'pandas.core.frame.DataFrame'>\n",
      "RangeIndex: 2933 entries, 0 to 2932\n",
      "Data columns (total 15 columns):\n",
      " #   Column                             Non-Null Count  Dtype \n",
      "---  ------                             --------------  ----- \n",
      " 0   Discrepancy ID                     2933 non-null   int64 \n",
      " 1   Check ID                           2933 non-null   object\n",
      " 2   Issue/Discrepancy Status           2933 non-null   object\n",
      " 3   Date Time Assigned                 2933 non-null   object\n",
      " 4   Date Last Updated                  2933 non-null   object\n",
      " 5   Site ID                            2933 non-null   object\n",
      " 6   Subject ID                         2933 non-null   object\n",
      " 7   Visit ID                           2933 non-null   object\n",
      " 8   Form ID                            2933 non-null   object\n",
      " 9   Discrepancy/Issue Message          2933 non-null   object\n",
      " 10  Action                             2933 non-null   object\n",
      " 11  Internal Chat                      560 non-null    object\n",
      " 12  External Chat                      69 non-null     object\n",
      " 13  Message to Resolution Owner Group  61 non-null     object\n",
      " 14  AGEING                             2933 non-null   object\n",
      "dtypes: int64(1), object(14)\n",
      "memory usage: 343.8+ KB\n"
     ]
    }
   ],
   "source": [
    "# define the columns of interest\n",
    "columns_of_interest = [\n",
    "    'Discrepancy ID',\n",
    "    'Check ID',\n",
    "    'Issue/Discrepancy Status',\n",
    "    'Date Time Assigned',\n",
    "    'Date Last Updated',\n",
    "    'Site ID',\n",
    "    'Subject ID',\n",
    "    'Visit ID',\n",
    "    'Form ID',\n",
    "    'Discrepancy/Issue Message',\n",
    "    'Action',\n",
    "    'Internal Chat',\n",
    "    'External Chat',\n",
    "    'Message to Resolution Owner Group',\n",
    "    'AGEING'\n",
    "]\n",
    "\n",
    "# select the columns of interest\n",
    "df_selected = df[columns_of_interest]\n",
    "df_selected.info()\n",
    "\n",
    "# Columns of interest - rationale for selection:\n",
    "    # Discrepancy ID: validation purpose\n",
    "    # Check ID: collect check related statistics\n",
    "    # Issue/Discrepancy Status: label_1\n",
    "    # Date Time Assigned/Date Last Updated: analyze trends, check data logic\n",
    "    # Site ID: site related info\n",
    "    # Subject ID\n",
    "    # Visit ID\n",
    "    # Form ID\n",
    "    # Discrepancy/Issue Message\n",
    "    # Action: label_2\n",
    "    # Internal Chat: sentiment analysis\n",
    "    # External Chat: sentiment analysis\n",
    "    # Message to Resolution Owner Group: sentiment analysis\n",
    "    # AGEING"
   ]
  },
  {
   "cell_type": "markdown",
   "metadata": {},
   "source": [
    "### check missing values"
   ]
  },
  {
   "cell_type": "code",
   "execution_count": 9,
   "metadata": {},
   "outputs": [
    {
     "name": "stdout",
     "output_type": "stream",
     "text": [
      "Discrepancy ID                          0\n",
      "Check ID                                0\n",
      "Issue/Discrepancy Status                0\n",
      "Date Time Assigned                      0\n",
      "Date Last Updated                       0\n",
      "Site ID                                 0\n",
      "Subject ID                              0\n",
      "Visit ID                                0\n",
      "Form ID                                 0\n",
      "Discrepancy/Issue Message               0\n",
      "Action                                  0\n",
      "Internal Chat                        2373\n",
      "External Chat                        2864\n",
      "Message to Resolution Owner Group    2872\n",
      "AGEING                                  0\n",
      "dtype: int64\n"
     ]
    }
   ],
   "source": [
    "# check missing values\n",
    "missing_values = df_selected.isnull().sum()\n",
    "print(missing_values)\n",
    "\n",
    "# Discrepancy/Issue Message & Action: no missing value. -> very good.\n",
    "# output as expected: high number of missing values in Internal Chat, External Chat and Message to Resulotuion Owner Group. -> lack of data for sentiment analysis. Another dataset might be better. "
   ]
  },
  {
   "cell_type": "markdown",
   "metadata": {},
   "source": [
    "### check duplicates"
   ]
  },
  {
   "cell_type": "code",
   "execution_count": 14,
   "metadata": {},
   "outputs": [
    {
     "data": {
      "text/plain": [
       "0"
      ]
     },
     "execution_count": 14,
     "metadata": {},
     "output_type": "execute_result"
    }
   ],
   "source": [
    "# check duplicate rows\n",
    "total_duplicate_rows = df.duplicated().sum()\n",
    "total_duplicate_rows"
   ]
  },
  {
   "cell_type": "code",
   "execution_count": 13,
   "metadata": {},
   "outputs": [
    {
     "data": {
      "text/plain": [
       "1188"
      ]
     },
     "execution_count": 13,
     "metadata": {},
     "output_type": "execute_result"
    }
   ],
   "source": [
    "# check the total number of duplicates in the 'Discrepancy/Issue Message' column\n",
    "duplicates_count = df_selected['Discrepancy/Issue Message'].duplicated().sum()\n",
    "duplicates_count"
   ]
  },
  {
   "cell_type": "code",
   "execution_count": 16,
   "metadata": {},
   "outputs": [
    {
     "name": "stdout",
     "output_type": "stream",
     "text": [
      "      Discrepancy ID       Check ID Issue/Discrepancy Status  \\\n",
      "14           3924006  QS_ESSDAI_002                   Closed   \n",
      "15           3924005  QS_ESSDAI_002                   Closed   \n",
      "16           3697922  QS_ESSDAI_002                   Closed   \n",
      "19           4186674  QS_ESSDAI_002             Irresolvable   \n",
      "21           3979326  QS_ESSDAI_002                   Closed   \n",
      "...              ...            ...                      ...   \n",
      "2925         4827018        IRT_005                      New   \n",
      "2926         4827269        IRT_005                      New   \n",
      "2928         4195097         CM_003                   Closed   \n",
      "2929         4121323         AE_001                   Closed   \n",
      "2931         3697940         CM_003                   Closed   \n",
      "\n",
      "     Date Time Assigned Date Last Updated Site ID Subject ID  \\\n",
      "14       7/17/2023 6:35   8/19/2023 10:59  320028  320028003   \n",
      "15       7/17/2023 6:35   8/19/2023 10:59  320028  320028003   \n",
      "16      6/21/2023 11:39    7/30/2023 9:43  360024  360024001   \n",
      "19      7/21/2023 10:14   9/14/2023 10:00  480063  480063001   \n",
      "21      7/21/2023 10:20    7/30/2023 9:43  360024  360024001   \n",
      "...                 ...               ...     ...        ...   \n",
      "2925   10/18/2023 13:46  10/18/2023 13:46  480055  480055002   \n",
      "2926   10/18/2023 13:47  10/18/2023 13:47  320028  320028006   \n",
      "2928     7/22/2023 9:16     8/2/2023 9:40  480063  480063006   \n",
      "2929    7/13/2023 17:16     8/2/2023 9:27  480051  480051001   \n",
      "2931     6/21/2023 9:58    6/21/2023 9:59  320028  320028002   \n",
      "\n",
      "                Visit ID                                            Form ID  \\\n",
      "14    Visit 1 - Baseline  EULAR Sjogren's Syndrome Disease Activity Inde...   \n",
      "15             Screening  EULAR Sjogren's Syndrome Disease Activity Inde...   \n",
      "16             Screening  EULAR Sjogren's Syndrome Disease Activity Inde...   \n",
      "19             Screening  EULAR Sjogren's Syndrome Disease Activity Inde...   \n",
      "21    Visit 1 - Baseline  EULAR Sjogren's Syndrome Disease Activity Inde...   \n",
      "...                  ...                                                ...   \n",
      "2925  Visit 1 - Baseline                                      Date of Visit   \n",
      "2926  Visit 11 - Week 10                                      Date of Visit   \n",
      "2928                 Log                  Prior and Concomitant Medications   \n",
      "2929                 Log                                     Adverse Events   \n",
      "2931                 Log                  Prior and Concomitant Medications   \n",
      "\n",
      "                              Discrepancy/Issue Message               Action  \\\n",
      "14    At Visit 1 - Baseline, Total clinESSDAI Score ...        Marked Closed   \n",
      "15    At Screening, Total clinESSDAI Score reported ...        Marked Closed   \n",
      "16    At Screening, Total clinESSDAI Score reported ...        Marked Closed   \n",
      "19    At Screening, Total clinESSDAI Score reported ...  Marked Irresolvable   \n",
      "21    At Visit 1 - Baseline, Total clinESSDAI Score ...        Marked Closed   \n",
      "...                                                 ...                  ...   \n",
      "2925  Date of Visit is mismatching between EDC datab...        Issue Created   \n",
      "2926  Date of Visit is mismatching between EDC datab...        Issue Created   \n",
      "2928  Medication is recorded more than once at Medic...        Marked Closed   \n",
      "2929  Adverse Event  reported in AE log line 3 is du...        Marked Closed   \n",
      "2931  Medication is recorded more than once at Medic...        Marked Closed   \n",
      "\n",
      "                                          Internal Chat  \\\n",
      "14                                                  NaN   \n",
      "15                                                  NaN   \n",
      "16                                                  NaN   \n",
      "19    Per CRA request 'delete as clinESSDAI was not ...   \n",
      "21                                                  NaN   \n",
      "...                                                 ...   \n",
      "2925                                                NaN   \n",
      "2926                                                NaN   \n",
      "2928                                                NaN   \n",
      "2929                                                NaN   \n",
      "2931                                                NaN   \n",
      "\n",
      "                                          External Chat  \\\n",
      "14    17-JUL-2023 07?07?14;Kotian Shreya Ramesh;At V...   \n",
      "15    17-JUL-2023 07?07?39;Kotian Shreya Ramesh;At S...   \n",
      "16    20-JUL-2023 08?07?22;Kotian Shreya Ramesh;At S...   \n",
      "19    21-JUL-2023 10?07?35;Kotian Shreya Ramesh;At S...   \n",
      "21    21-JUL-2023 10?07?02;Kotian Shreya Ramesh;At V...   \n",
      "...                                                 ...   \n",
      "2925                                                NaN   \n",
      "2926                                                NaN   \n",
      "2928                                                NaN   \n",
      "2929                                                NaN   \n",
      "2931                                                NaN   \n",
      "\n",
      "                      Message to Resolution Owner Group  AGEING  \n",
      "14    At Visit 1 - Baseline, Total clinESSDAI Score ...    High  \n",
      "15    At Screening, Total clinESSDAI Score reported ...    High  \n",
      "16    At Screening, Total clinESSDAI Score reported ...    High  \n",
      "19    At Screening, Total clinESSDAI Score reported ...    High  \n",
      "21    At Visit 1 - Baseline, Total clinESSDAI Score ...    High  \n",
      "...                                                 ...     ...  \n",
      "2925                                                NaN  Medium  \n",
      "2926                                                NaN  Medium  \n",
      "2928                                                NaN    High  \n",
      "2929                                                NaN    High  \n",
      "2931                                                NaN    High  \n",
      "\n",
      "[1628 rows x 15 columns]\n"
     ]
    }
   ],
   "source": [
    "# check for duplicates in the 'Discrepancy/Issue Message' column\n",
    "duplicates = df_selected[df_selected['Discrepancy/Issue Message'].duplicated(keep=False)]\n",
    "print(duplicates)\n",
    "\n",
    "# At Visit 1 - Baseline, Total clinESSDAI Score reported is , however as per the Protocol, it should be 16. Kindly review and update, else clarify."
   ]
  },
  {
   "cell_type": "code",
   "execution_count": null,
   "metadata": {},
   "outputs": [],
   "source": []
  }
 ],
 "metadata": {
  "kernelspec": {
   "display_name": "Python 3",
   "language": "python",
   "name": "python3"
  },
  "language_info": {
   "codemirror_mode": {
    "name": "ipython",
    "version": 3
   },
   "file_extension": ".py",
   "mimetype": "text/x-python",
   "name": "python",
   "nbconvert_exporter": "python",
   "pygments_lexer": "ipython3",
   "version": "3.10.11"
  }
 },
 "nbformat": 4,
 "nbformat_minor": 2
}
